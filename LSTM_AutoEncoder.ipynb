{
 "cells": [
  {
   "cell_type": "code",
   "execution_count": 11,
   "metadata": {
    "scrolled": true
   },
   "outputs": [],
   "source": [
    "from keras.layers import Input, LSTM, RepeatVector, Embedding\n",
    "from keras.models import Model"
   ]
  },
  {
   "cell_type": "code",
   "execution_count": 2,
   "metadata": {},
   "outputs": [],
   "source": [
    "# 2D image\n",
    "inputs = Input(shape=(28, 28))"
   ]
  },
  {
   "cell_type": "code",
   "execution_count": 3,
   "metadata": {},
   "outputs": [],
   "source": [
    "encoded = Embedding()\n",
    "encoded = LSTM(100)(inputs)"
   ]
  },
  {
   "cell_type": "code",
   "execution_count": 4,
   "metadata": {},
   "outputs": [],
   "source": [
    "decoded = RepeatVector(28)(encoded)\n",
    "decoded = LSTM(28, return_sequences=True)(decoded)"
   ]
  },
  {
   "cell_type": "code",
   "execution_count": 5,
   "metadata": {},
   "outputs": [],
   "source": [
    "sequence_autoencoder = Model(inputs, decoded)"
   ]
  },
  {
   "cell_type": "code",
   "execution_count": 6,
   "metadata": {},
   "outputs": [
    {
     "name": "stdout",
     "output_type": "stream",
     "text": [
      "_________________________________________________________________\n",
      "Layer (type)                 Output Shape              Param #   \n",
      "=================================================================\n",
      "input_1 (InputLayer)         (None, 28, 28)            0         \n",
      "_________________________________________________________________\n",
      "lstm_1 (LSTM)                (None, 100)               51600     \n",
      "_________________________________________________________________\n",
      "repeat_vector_1 (RepeatVecto (None, 28, 100)           0         \n",
      "_________________________________________________________________\n",
      "lstm_2 (LSTM)                (None, 28, 28)            14448     \n",
      "=================================================================\n",
      "Total params: 66,048\n",
      "Trainable params: 66,048\n",
      "Non-trainable params: 0\n",
      "_________________________________________________________________\n"
     ]
    }
   ],
   "source": [
    "sequence_autoencoder.compile(optimizer='adadelta', loss='binary_crossentropy', metrics=['accuracy'])\n",
    "sequence_autoencoder.summary()"
   ]
  },
  {
   "cell_type": "code",
   "execution_count": 7,
   "metadata": {},
   "outputs": [],
   "source": [
    "from keras.datasets import mnist\n",
    "import numpy as np"
   ]
  },
  {
   "cell_type": "code",
   "execution_count": 8,
   "metadata": {},
   "outputs": [],
   "source": [
    "(x_train, _), (x_test, _) = mnist.load_data()"
   ]
  },
  {
   "cell_type": "code",
   "execution_count": 9,
   "metadata": {},
   "outputs": [],
   "source": [
    "# reshaping\n",
    "x_train = x_train.astype('float32') / 255.\n",
    "x_test = x_test.astype('float32') / 255.\n",
    "x_train = np.reshape(x_train, (len(x_train), 28, 28))\n",
    "x_test = np.reshape(x_test, (len(x_test), 28, 28))"
   ]
  },
  {
   "cell_type": "code",
   "execution_count": 10,
   "metadata": {},
   "outputs": [
    {
     "name": "stdout",
     "output_type": "stream",
     "text": [
      "Train on 60000 samples, validate on 10000 samples\n",
      "Epoch 1/30\n",
      "60000/60000 [==============================] - 45s - loss: 0.3660 - acc: 0.8076 - val_loss: 0.2734 - val_acc: 0.8040\n",
      "Epoch 2/30\n",
      "60000/60000 [==============================] - 43s - loss: 0.2677 - acc: 0.8044 - val_loss: 0.2586 - val_acc: 0.7977\n",
      "Epoch 3/30\n",
      "60000/60000 [==============================] - 42s - loss: 0.2533 - acc: 0.7855 - val_loss: 0.2471 - val_acc: 0.7785\n",
      "Epoch 4/30\n",
      "60000/60000 [==============================] - 43s - loss: 0.2486 - acc: 0.7687 - val_loss: 0.2516 - val_acc: 0.7663\n",
      "Epoch 5/30\n",
      "60000/60000 [==============================] - 41s - loss: 0.2432 - acc: 0.7612 - val_loss: 0.2401 - val_acc: 0.7459\n",
      "Epoch 6/30\n",
      "60000/60000 [==============================] - 42s - loss: 0.2406 - acc: 0.7522 - val_loss: 0.2371 - val_acc: 0.7477\n",
      "Epoch 7/30\n",
      "60000/60000 [==============================] - 45s - loss: 0.2376 - acc: 0.7481 - val_loss: 0.2338 - val_acc: 0.7418\n",
      "Epoch 8/30\n",
      "60000/60000 [==============================] - 42s - loss: 0.2359 - acc: 0.7462 - val_loss: 0.2321 - val_acc: 0.7394\n",
      "Epoch 9/30\n",
      "60000/60000 [==============================] - 44s - loss: 0.2331 - acc: 0.7383 - val_loss: 0.2331 - val_acc: 0.7417\n",
      "Epoch 10/30\n",
      "60000/60000 [==============================] - 44s - loss: 0.2319 - acc: 0.7358 - val_loss: 0.2399 - val_acc: 0.7308\n",
      "Epoch 11/30\n",
      "60000/60000 [==============================] - 43s - loss: 0.2295 - acc: 0.7315 - val_loss: 0.2264 - val_acc: 0.7271\n",
      "Epoch 12/30\n",
      "60000/60000 [==============================] - 42s - loss: 0.2273 - acc: 0.7249 - val_loss: 0.2275 - val_acc: 0.7232\n",
      "Epoch 13/30\n",
      "60000/60000 [==============================] - 41s - loss: 0.2255 - acc: 0.7209 - val_loss: 0.2229 - val_acc: 0.7136\n",
      "Epoch 14/30\n",
      "60000/60000 [==============================] - 43s - loss: 0.2334 - acc: 0.7184 - val_loss: 0.2261 - val_acc: 0.7178\n",
      "Epoch 15/30\n",
      "60000/60000 [==============================] - 43s - loss: 0.2226 - acc: 0.7137 - val_loss: 0.2186 - val_acc: 0.7065\n",
      "Epoch 16/30\n",
      "60000/60000 [==============================] - 43s - loss: 0.2198 - acc: 0.7093 - val_loss: 0.2167 - val_acc: 0.7026\n",
      "Epoch 17/30\n",
      "60000/60000 [==============================] - 43s - loss: 0.2183 - acc: 0.7071 - val_loss: 0.2177 - val_acc: 0.7084\n",
      "Epoch 18/30\n",
      "60000/60000 [==============================] - 44s - loss: 0.2162 - acc: 0.7035 - val_loss: 0.2128 - val_acc: 0.6990\n",
      "Epoch 19/30\n",
      "60000/60000 [==============================] - 44s - loss: 0.2154 - acc: 0.7023 - val_loss: 0.2126 - val_acc: 0.7002\n",
      "Epoch 20/30\n",
      "60000/60000 [==============================] - 42s - loss: 0.2131 - acc: 0.6994 - val_loss: 0.2120 - val_acc: 0.7042\n",
      "Epoch 21/30\n",
      "60000/60000 [==============================] - 42s - loss: 0.2130 - acc: 0.6999 - val_loss: 0.2089 - val_acc: 0.6920\n",
      "Epoch 22/30\n",
      "60000/60000 [==============================] - 43s - loss: 0.2122 - acc: 0.6967 - val_loss: 0.2109 - val_acc: 0.6984\n",
      "Epoch 23/30\n",
      "60000/60000 [==============================] - 43s - loss: 0.2102 - acc: 0.6931 - val_loss: 0.2090 - val_acc: 0.6864\n",
      "Epoch 24/30\n",
      "60000/60000 [==============================] - 46s - loss: 0.2085 - acc: 0.6913 - val_loss: 0.2062 - val_acc: 0.6924\n",
      "Epoch 25/30\n",
      "60000/60000 [==============================] - 44s - loss: 0.2070 - acc: 0.6891 - val_loss: 0.2139 - val_acc: 0.6948\n",
      "Epoch 26/30\n",
      "60000/60000 [==============================] - 43s - loss: 0.2066 - acc: 0.6877 - val_loss: 0.2052 - val_acc: 0.6917\n",
      "Epoch 27/30\n",
      "60000/60000 [==============================] - 39s - loss: 0.2046 - acc: 0.6853 - val_loss: 0.2008 - val_acc: 0.6757\n",
      "Epoch 28/30\n",
      "60000/60000 [==============================] - 34s - loss: 0.2035 - acc: 0.6798 - val_loss: 0.1997 - val_acc: 0.6733\n",
      "Epoch 29/30\n",
      "60000/60000 [==============================] - 33s - loss: 0.2027 - acc: 0.6763 - val_loss: 0.1992 - val_acc: 0.6732\n",
      "Epoch 30/30\n",
      "60000/60000 [==============================] - 35s - loss: 0.2015 - acc: 0.6789 - val_loss: 0.1977 - val_acc: 0.6709\n"
     ]
    },
    {
     "data": {
      "text/plain": [
       "<keras.callbacks.History at 0x2c73f56bef0>"
      ]
     },
     "execution_count": 10,
     "metadata": {},
     "output_type": "execute_result"
    }
   ],
   "source": [
    "sequence_autoencoder.fit(x_train, x_train,\n",
    "                epochs=30,\n",
    "                batch_size=128,\n",
    "                shuffle=True,\n",
    "                validation_data=(x_test, x_test))"
   ]
  },
  {
   "cell_type": "code",
   "execution_count": null,
   "metadata": {},
   "outputs": [],
   "source": []
  }
 ],
 "metadata": {
  "kernelspec": {
   "display_name": "Python 3",
   "language": "python",
   "name": "python3"
  },
  "language_info": {
   "codemirror_mode": {
    "name": "ipython",
    "version": 3
   },
   "file_extension": ".py",
   "mimetype": "text/x-python",
   "name": "python",
   "nbconvert_exporter": "python",
   "pygments_lexer": "ipython3",
   "version": "3.6.2"
  }
 },
 "nbformat": 4,
 "nbformat_minor": 2
}
