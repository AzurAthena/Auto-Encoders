{
 "cells": [
  {
   "cell_type": "code",
   "execution_count": 24,
   "metadata": {},
   "outputs": [],
   "source": [
    "from keras.layers import Input, Dense\n",
    "from keras.models import Model"
   ]
  },
  {
   "cell_type": "code",
   "execution_count": 25,
   "metadata": {},
   "outputs": [],
   "source": [
    "encoding_dim =32"
   ]
  },
  {
   "cell_type": "code",
   "execution_count": 26,
   "metadata": {},
   "outputs": [],
   "source": [
    "input_img = Input(shape=(784,)) # 28*28 for MNIST data"
   ]
  },
  {
   "cell_type": "code",
   "execution_count": 27,
   "metadata": {},
   "outputs": [],
   "source": [
    "encoded = Dense(128, activation='relu')(input_img)\n",
    "encoded = Dense(64, activation='relu')(encoded)\n",
    "encoded = Dense(encoding_dim, activation='relu')(encoded)"
   ]
  },
  {
   "cell_type": "code",
   "execution_count": 28,
   "metadata": {},
   "outputs": [],
   "source": [
    "decoded = Dense(784, activation='sigmoid')(encoded)"
   ]
  },
  {
   "cell_type": "code",
   "execution_count": 29,
   "metadata": {},
   "outputs": [],
   "source": [
    "autoencoder = Model(input_img, decoded)"
   ]
  },
  {
   "cell_type": "code",
   "execution_count": 30,
   "metadata": {},
   "outputs": [],
   "source": [
    "autoencoder.compile(optimizer='adadelta', loss='binary_crossentropy', metrics=['accuracy'])"
   ]
  },
  {
   "cell_type": "code",
   "execution_count": 31,
   "metadata": {},
   "outputs": [
    {
     "name": "stdout",
     "output_type": "stream",
     "text": [
      "(60000, 28, 28)\n",
      "(10000, 28, 28)\n"
     ]
    }
   ],
   "source": [
    "# load data\n",
    "from keras.datasets import mnist\n",
    "import numpy as np\n",
    "(x_train, _), (x_test, _) = mnist.load_data()\n",
    "print(x_train.shape)\n",
    "print(x_test.shape)"
   ]
  },
  {
   "cell_type": "code",
   "execution_count": 32,
   "metadata": {
    "scrolled": true
   },
   "outputs": [
    {
     "name": "stdout",
     "output_type": "stream",
     "text": [
      "(60000, 784)\n",
      "(10000, 784)\n"
     ]
    }
   ],
   "source": [
    "# normalize all pixels 255\n",
    "x_train = x_train.astype('float32') / 255.\n",
    "x_test = x_test.astype('float32') / 255.\n",
    "\n",
    "# reshape to the required shape as input\n",
    "x_train = x_train.reshape((len(x_train), -1))\n",
    "x_test = x_test.reshape((len(x_test), -1))\n",
    "print(x_train.shape)\n",
    "print(x_test.shape)"
   ]
  },
  {
   "cell_type": "code",
   "execution_count": 33,
   "metadata": {
    "scrolled": true
   },
   "outputs": [
    {
     "name": "stdout",
     "output_type": "stream",
     "text": [
      "_________________________________________________________________\n",
      "Layer (type)                 Output Shape              Param #   \n",
      "=================================================================\n",
      "input_3 (InputLayer)         (None, 784)               0         \n",
      "_________________________________________________________________\n",
      "dense_5 (Dense)              (None, 128)               100480    \n",
      "_________________________________________________________________\n",
      "dense_6 (Dense)              (None, 64)                8256      \n",
      "_________________________________________________________________\n",
      "dense_7 (Dense)              (None, 32)                2080      \n",
      "_________________________________________________________________\n",
      "dense_8 (Dense)              (None, 784)               25872     \n",
      "=================================================================\n",
      "Total params: 136,688\n",
      "Trainable params: 136,688\n",
      "Non-trainable params: 0\n",
      "_________________________________________________________________\n"
     ]
    }
   ],
   "source": [
    "autoencoder.summary()"
   ]
  },
  {
   "cell_type": "code",
   "execution_count": 34,
   "metadata": {
    "scrolled": true
   },
   "outputs": [
    {
     "name": "stdout",
     "output_type": "stream",
     "text": [
      "Train on 60000 samples, validate on 10000 samples\n",
      "Epoch 1/50\n",
      "60000/60000 [==============================] - 2s - loss: 0.3438 - acc: 0.7470 - val_loss: 0.2643 - val_acc: 0.7915\n",
      "Epoch 2/50\n",
      "60000/60000 [==============================] - 1s - loss: 0.2553 - acc: 0.7950 - val_loss: 0.2425 - val_acc: 0.7936\n",
      "Epoch 3/50\n",
      "60000/60000 [==============================] - 1s - loss: 0.2305 - acc: 0.7941 - val_loss: 0.2176 - val_acc: 0.7947\n",
      "Epoch 4/50\n",
      "60000/60000 [==============================] - 1s - loss: 0.2093 - acc: 0.7957 - val_loss: 0.1991 - val_acc: 0.7962\n",
      "Epoch 5/50\n",
      "60000/60000 [==============================] - 1s - loss: 0.1953 - acc: 0.7972 - val_loss: 0.1892 - val_acc: 0.7980\n",
      "Epoch 6/50\n",
      "60000/60000 [==============================] - 2s - loss: 0.1859 - acc: 0.7990 - val_loss: 0.1797 - val_acc: 0.8005\n",
      "Epoch 7/50\n",
      "60000/60000 [==============================] - 2s - loss: 0.1769 - acc: 0.8008 - val_loss: 0.1717 - val_acc: 0.8003\n",
      "Epoch 8/50\n",
      "60000/60000 [==============================] - 2s - loss: 0.1706 - acc: 0.8021 - val_loss: 0.1665 - val_acc: 0.8019\n",
      "Epoch 9/50\n",
      "60000/60000 [==============================] - 2s - loss: 0.1662 - acc: 0.8031 - val_loss: 0.1629 - val_acc: 0.8034\n",
      "Epoch 10/50\n",
      "60000/60000 [==============================] - 2s - loss: 0.1625 - acc: 0.8039 - val_loss: 0.1600 - val_acc: 0.8055\n",
      "Epoch 11/50\n",
      "60000/60000 [==============================] - 1s - loss: 0.1585 - acc: 0.8048 - val_loss: 0.1542 - val_acc: 0.8040\n",
      "Epoch 12/50\n",
      "60000/60000 [==============================] - 1s - loss: 0.1544 - acc: 0.8056 - val_loss: 0.1517 - val_acc: 0.8068\n",
      "Epoch 13/50\n",
      "60000/60000 [==============================] - 1s - loss: 0.1510 - acc: 0.8062 - val_loss: 0.1471 - val_acc: 0.8048\n",
      "Epoch 14/50\n",
      "60000/60000 [==============================] - 1s - loss: 0.1478 - acc: 0.8068 - val_loss: 0.1441 - val_acc: 0.8076\n",
      "Epoch 15/50\n",
      "60000/60000 [==============================] - 1s - loss: 0.1447 - acc: 0.8073 - val_loss: 0.1411 - val_acc: 0.8080\n",
      "Epoch 16/50\n",
      "60000/60000 [==============================] - 1s - loss: 0.1423 - acc: 0.8077 - val_loss: 0.1387 - val_acc: 0.8083\n",
      "Epoch 17/50\n",
      "60000/60000 [==============================] - 1s - loss: 0.1400 - acc: 0.8081 - val_loss: 0.1373 - val_acc: 0.8059\n",
      "Epoch 18/50\n",
      "60000/60000 [==============================] - 1s - loss: 0.1376 - acc: 0.8085 - val_loss: 0.1351 - val_acc: 0.8093\n",
      "Epoch 19/50\n",
      "60000/60000 [==============================] - 1s - loss: 0.1355 - acc: 0.8088 - val_loss: 0.1335 - val_acc: 0.8064\n",
      "Epoch 20/50\n",
      "60000/60000 [==============================] - 2s - loss: 0.1334 - acc: 0.8091 - val_loss: 0.1308 - val_acc: 0.8098\n",
      "Epoch 21/50\n",
      "60000/60000 [==============================] - 2s - loss: 0.1314 - acc: 0.8095 - val_loss: 0.1281 - val_acc: 0.8081\n",
      "Epoch 22/50\n",
      "60000/60000 [==============================] - 2s - loss: 0.1296 - acc: 0.8097 - val_loss: 0.1284 - val_acc: 0.8104\n",
      "Epoch 23/50\n",
      "60000/60000 [==============================] - 1s - loss: 0.1280 - acc: 0.8100 - val_loss: 0.1256 - val_acc: 0.8084\n",
      "Epoch 24/50\n",
      "60000/60000 [==============================] - 2s - loss: 0.1270 - acc: 0.8101 - val_loss: 0.1244 - val_acc: 0.8102\n",
      "Epoch 25/50\n",
      "60000/60000 [==============================] - 2s - loss: 0.1256 - acc: 0.8103 - val_loss: 0.1240 - val_acc: 0.8105\n",
      "Epoch 26/50\n",
      "60000/60000 [==============================] - 2s - loss: 0.1248 - acc: 0.8104 - val_loss: 0.1232 - val_acc: 0.8084\n",
      "Epoch 27/50\n",
      "60000/60000 [==============================] - 2s - loss: 0.1237 - acc: 0.8105 - val_loss: 0.1211 - val_acc: 0.8092\n",
      "Epoch 28/50\n",
      "60000/60000 [==============================] - 2s - loss: 0.1226 - acc: 0.8107 - val_loss: 0.1212 - val_acc: 0.8109\n",
      "Epoch 29/50\n",
      "60000/60000 [==============================] - 2s - loss: 0.1216 - acc: 0.8108 - val_loss: 0.1200 - val_acc: 0.8089\n",
      "Epoch 30/50\n",
      "60000/60000 [==============================] - 2s - loss: 0.1207 - acc: 0.8109 - val_loss: 0.1186 - val_acc: 0.8110\n",
      "Epoch 31/50\n",
      "60000/60000 [==============================] - 2s - loss: 0.1196 - acc: 0.8111 - val_loss: 0.1178 - val_acc: 0.8095\n",
      "Epoch 32/50\n",
      "60000/60000 [==============================] - 1s - loss: 0.1187 - acc: 0.8112 - val_loss: 0.1160 - val_acc: 0.8105\n",
      "Epoch 33/50\n",
      "60000/60000 [==============================] - 2s - loss: 0.1177 - acc: 0.8113 - val_loss: 0.1156 - val_acc: 0.8111\n",
      "Epoch 34/50\n",
      "60000/60000 [==============================] - 1s - loss: 0.1173 - acc: 0.8114 - val_loss: 0.1148 - val_acc: 0.8102\n",
      "Epoch 35/50\n",
      "60000/60000 [==============================] - 2s - loss: 0.1164 - acc: 0.8115 - val_loss: 0.1146 - val_acc: 0.8113\n",
      "Epoch 36/50\n",
      "60000/60000 [==============================] - 2s - loss: 0.1158 - acc: 0.8116 - val_loss: 0.1145 - val_acc: 0.8116\n",
      "Epoch 37/50\n",
      "60000/60000 [==============================] - 1s - loss: 0.1153 - acc: 0.8116 - val_loss: 0.1135 - val_acc: 0.8102\n",
      "Epoch 38/50\n",
      "60000/60000 [==============================] - 2s - loss: 0.1146 - acc: 0.8117 - val_loss: 0.1128 - val_acc: 0.8115\n",
      "Epoch 39/50\n",
      "60000/60000 [==============================] - 1s - loss: 0.1140 - acc: 0.8118 - val_loss: 0.1127 - val_acc: 0.8103\n",
      "Epoch 40/50\n",
      "60000/60000 [==============================] - 2s - loss: 0.1137 - acc: 0.8119 - val_loss: 0.1114 - val_acc: 0.8115\n",
      "Epoch 41/50\n",
      "60000/60000 [==============================] - 2s - loss: 0.1130 - acc: 0.8120 - val_loss: 0.1125 - val_acc: 0.8119\n",
      "Epoch 42/50\n",
      "60000/60000 [==============================] - 2s - loss: 0.1125 - acc: 0.8120 - val_loss: 0.1111 - val_acc: 0.8105\n",
      "Epoch 43/50\n",
      "60000/60000 [==============================] - 1s - loss: 0.1119 - acc: 0.8121 - val_loss: 0.1103 - val_acc: 0.8117\n",
      "Epoch 44/50\n",
      "60000/60000 [==============================] - 2s - loss: 0.1114 - acc: 0.8121 - val_loss: 0.1096 - val_acc: 0.8109\n",
      "Epoch 45/50\n",
      "60000/60000 [==============================] - 2s - loss: 0.1111 - acc: 0.8122 - val_loss: 0.1089 - val_acc: 0.8118\n",
      "Epoch 46/50\n",
      "60000/60000 [==============================] - 1s - loss: 0.1106 - acc: 0.8122 - val_loss: 0.1087 - val_acc: 0.8110\n",
      "Epoch 47/50\n",
      "60000/60000 [==============================] - 1s - loss: 0.1101 - acc: 0.8123 - val_loss: 0.1087 - val_acc: 0.8109\n",
      "Epoch 48/50\n",
      "60000/60000 [==============================] - 1s - loss: 0.1097 - acc: 0.8123 - val_loss: 0.1073 - val_acc: 0.8115\n",
      "Epoch 49/50\n",
      "60000/60000 [==============================] - 1s - loss: 0.1094 - acc: 0.8124 - val_loss: 0.1075 - val_acc: 0.8112\n",
      "Epoch 50/50\n",
      "60000/60000 [==============================] - 1s - loss: 0.1091 - acc: 0.8124 - val_loss: 0.1071 - val_acc: 0.8120\n"
     ]
    },
    {
     "data": {
      "text/plain": [
       "<keras.callbacks.History at 0x243ffe975c0>"
      ]
     },
     "execution_count": 34,
     "metadata": {},
     "output_type": "execute_result"
    }
   ],
   "source": [
    "autoencoder.fit(x_train, x_train,\n",
    "                epochs=50,\n",
    "                batch_size=256,\n",
    "                shuffle=True,\n",
    "                validation_data=(x_test, x_test))"
   ]
  },
  {
   "cell_type": "code",
   "execution_count": 35,
   "metadata": {},
   "outputs": [],
   "source": [
    "encoder = Model(input_img, encoded)"
   ]
  },
  {
   "cell_type": "code",
   "execution_count": 36,
   "metadata": {},
   "outputs": [],
   "source": [
    "# decoder = Model(encoded_ino, decoded)\n",
    "\n",
    "encoded_input = Input(shape=(encoding_dim,))"
   ]
  },
  {
   "cell_type": "code",
   "execution_count": 37,
   "metadata": {},
   "outputs": [
    {
     "data": {
      "text/plain": [
       "TensorShape([Dimension(None), Dimension(32)])"
      ]
     },
     "execution_count": 37,
     "metadata": {},
     "output_type": "execute_result"
    }
   ],
   "source": [
    "encoded_input.shape"
   ]
  },
  {
   "cell_type": "code",
   "execution_count": 38,
   "metadata": {},
   "outputs": [],
   "source": [
    "# get the last layer from autoencoder i.e decoder layer\n",
    "decoder_layer = autoencoder.layers[-1]"
   ]
  },
  {
   "cell_type": "code",
   "execution_count": 39,
   "metadata": {},
   "outputs": [],
   "source": [
    "# input = encoded input\n",
    "# output = decoded(encoded input)\n",
    "\n",
    "decoder = Model(encoded_input, decoder_layer(encoded_input))"
   ]
  },
  {
   "cell_type": "code",
   "execution_count": 40,
   "metadata": {},
   "outputs": [],
   "source": [
    "encoded_images = encoder.predict(x_test)"
   ]
  },
  {
   "cell_type": "code",
   "execution_count": 41,
   "metadata": {},
   "outputs": [
    {
     "data": {
      "text/plain": [
       "array([[ 25.3190136 ,   7.66122866,  19.09629631, ...,  16.28502846,\n",
       "          5.87739325,   0.        ],\n",
       "       [  7.62991285,  24.11292458,  17.51410294, ...,  17.20057487,\n",
       "         20.69262505,   0.        ],\n",
       "       [ 12.26418781,   8.97395039,   6.17695236, ...,  11.30650425,\n",
       "         26.36323738,   0.        ],\n",
       "       ..., \n",
       "       [ 28.01749229,  14.86636639,  21.88395691, ...,   7.83109331,\n",
       "         19.00192833,   0.        ],\n",
       "       [ 18.76287651,  26.12579918,  20.06475067, ...,  11.92119217,\n",
       "         10.67123795,   0.        ],\n",
       "       [ 16.59347153,  26.84771729,  13.23494053, ...,  23.09669304,\n",
       "         37.96303558,   0.        ]], dtype=float32)"
      ]
     },
     "execution_count": 41,
     "metadata": {},
     "output_type": "execute_result"
    }
   ],
   "source": [
    "encoded_images"
   ]
  },
  {
   "cell_type": "code",
   "execution_count": 42,
   "metadata": {},
   "outputs": [
    {
     "data": {
      "text/plain": [
       "array([[  5.67531000e-09,   1.03826011e-07,   9.48771117e-07, ...,\n",
       "          1.14193696e-07,   2.10146618e-06,   2.29130981e-09],\n",
       "       [  6.93138489e-08,   4.07016414e-05,   2.96069684e-05, ...,\n",
       "          2.01085959e-06,   1.75466801e-06,   8.53475868e-09],\n",
       "       [  3.38006004e-07,   1.07102125e-04,   6.60325395e-06, ...,\n",
       "          5.42665779e-09,   8.41093140e-07,   7.73803333e-09],\n",
       "       ..., \n",
       "       [  7.13302695e-10,   1.56276201e-08,   2.47503550e-07, ...,\n",
       "          3.06259285e-09,   8.12463270e-07,   1.83106391e-10],\n",
       "       [  1.63932619e-08,   1.58174043e-06,   1.99305014e-05, ...,\n",
       "          1.48763120e-05,   6.21558593e-06,   8.30686417e-08],\n",
       "       [  5.48008694e-10,   1.16172050e-08,   1.31063118e-07, ...,\n",
       "          7.58625660e-08,   2.00574970e-08,   1.75146744e-10]], dtype=float32)"
      ]
     },
     "execution_count": 42,
     "metadata": {},
     "output_type": "execute_result"
    }
   ],
   "source": [
    "decoded_images = decoder.predict(encoded_images)\n",
    "decoded_images"
   ]
  },
  {
   "cell_type": "code",
   "execution_count": 43,
   "metadata": {},
   "outputs": [],
   "source": [
    "import matplotlib.pyplot as plt"
   ]
  },
  {
   "cell_type": "code",
   "execution_count": 44,
   "metadata": {},
   "outputs": [
    {
     "data": {
      "image/png": "[encoded data removed]",
      "text/plain": [
       "<matplotlib.figure.Figure at 0x2432cc662e8>"
      ]
     },
     "metadata": {},
     "output_type": "display_data"
    }
   ],
   "source": [
    "n = 10  # how many digits we will display\n",
    "plt.figure(figsize=(20, 4))\n",
    "for i in range(n):\n",
    "    # display original\n",
    "    ax = plt.subplot(2, n, i + 1)\n",
    "    plt.imshow(x_test[i].reshape(28, 28))\n",
    "    plt.gray()\n",
    "    ax.get_xaxis().set_visible(False)\n",
    "    ax.get_yaxis().set_visible(False)\n",
    "\n",
    "    # display enoded images\n",
    "    ax = plt.subplot(2, n, i + 1 + n)\n",
    "    plt.imshow(encoded_images[i].reshape(8, 4))\n",
    "    plt.gray()\n",
    "    ax.get_xaxis().set_visible(False)\n",
    "    ax.get_yaxis().set_visible(False)\n",
    "plt.show()"
   ]
  },
  {
   "cell_type": "code",
   "execution_count": 45,
   "metadata": {},
   "outputs": [
    {
     "data": {
      "image/png": "[encoded data removed]",
      "text/plain": [
       "<matplotlib.figure.Figure at 0x24345f922e8>"
      ]
     },
     "metadata": {},
     "output_type": "display_data"
    }
   ],
   "source": [
    "n = 10  # how many digits we will display\n",
    "plt.figure(figsize=(20, 4))\n",
    "for i in range(n):\n",
    "    # display original\n",
    "    ax = plt.subplot(2, n, i + 1)\n",
    "    plt.imshow(x_test[i].reshape(28, 28))\n",
    "    plt.gray()\n",
    "    ax.get_xaxis().set_visible(False)\n",
    "    ax.get_yaxis().set_visible(False)\n",
    "\n",
    "    # display reconstruction\n",
    "    ax = plt.subplot(2, n, i + 1 + n)\n",
    "    plt.imshow(decoded_images[i].reshape(28, 28))\n",
    "    plt.gray()\n",
    "    ax.get_xaxis().set_visible(False)\n",
    "    ax.get_yaxis().set_visible(False)\n",
    "plt.show()"
   ]
  },
  {
   "cell_type": "code",
   "execution_count": null,
   "metadata": {},
   "outputs": [],
   "source": []
  }
 ],
 "metadata": {
  "kernelspec": {
   "display_name": "Python 3",
   "language": "python",
   "name": "python3"
  },
  "language_info": {
   "codemirror_mode": {
    "name": "ipython",
    "version": 3
   },
   "file_extension": ".py",
   "mimetype": "text/x-python",
   "name": "python",
   "nbconvert_exporter": "python",
   "pygments_lexer": "ipython3",
   "version": "3.6.2"
  }
 },
 "nbformat": 4,
 "nbformat_minor": 2
}
