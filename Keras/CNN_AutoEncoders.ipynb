{
 "cells": [
  {
   "cell_type": "code",
   "execution_count": 32,
   "metadata": {},
   "outputs": [],
   "source": [
    "from keras.layers import Input, Dense, Conv2D, MaxPooling2D, UpSampling2D\n",
    "from keras.models import Model\n",
    "from keras import backend as K"
   ]
  },
  {
   "cell_type": "code",
   "execution_count": 33,
   "metadata": {},
   "outputs": [],
   "source": [
    "# 2D image\n",
    "input_img = Input(shape=(28, 28, 1))"
   ]
  },
  {
   "cell_type": "code",
   "execution_count": 34,
   "metadata": {},
   "outputs": [],
   "source": [
    "# encoder\n",
    "x = Conv2D(16, (3, 3), activation='relu', padding='same')(input_img)\n",
    "x = MaxPooling2D((2, 2), padding='same')(x)\n",
    "x = Conv2D(8, (3, 3), activation='relu', padding='same')(x)\n",
    "x = MaxPooling2D((2, 2), padding='same')(x)\n",
    "x = Conv2D(8, (3, 3), activation='relu', padding='same')(x)\n",
    "encoded = MaxPooling2D((2, 2), padding='same')(x)"
   ]
  },
  {
   "cell_type": "code",
   "execution_count": 35,
   "metadata": {},
   "outputs": [],
   "source": [
    "# decoder\n",
    "x = Conv2D(8, (3, 3), activation='relu', padding='same')(encoded)\n",
    "x = UpSampling2D((2, 2))(x)\n",
    "x = Conv2D(8, (3, 3), activation='relu', padding='same')(x)\n",
    "x = UpSampling2D((2, 2))(x)\n",
    "x = Conv2D(16, (3, 3), activation='relu')(x)\n",
    "x = UpSampling2D((2, 2))(x)\n",
    "decoded = Conv2D(1, (3, 3), activation='sigmoid', padding='same')(x)"
   ]
  },
  {
   "cell_type": "code",
   "execution_count": 36,
   "metadata": {},
   "outputs": [],
   "source": [
    "# autoencoder\n",
    "autoencoder = Model(input_img, decoded)\n",
    "autoencoder.compile(optimizer='adadelta', loss='binary_crossentropy', metrics=['accuracy'])"
   ]
  },
  {
   "cell_type": "code",
   "execution_count": 37,
   "metadata": {},
   "outputs": [
    {
     "name": "stdout",
     "output_type": "stream",
     "text": [
      "_________________________________________________________________\n",
      "Layer (type)                 Output Shape              Param #   \n",
      "=================================================================\n",
      "input_2 (InputLayer)         (None, 28, 28, 1)         0         \n",
      "_________________________________________________________________\n",
      "conv2d_8 (Conv2D)            (None, 28, 28, 16)        160       \n",
      "_________________________________________________________________\n",
      "max_pooling2d_4 (MaxPooling2 (None, 14, 14, 16)        0         \n",
      "_________________________________________________________________\n",
      "conv2d_9 (Conv2D)            (None, 14, 14, 8)         1160      \n",
      "_________________________________________________________________\n",
      "max_pooling2d_5 (MaxPooling2 (None, 7, 7, 8)           0         \n",
      "_________________________________________________________________\n",
      "conv2d_10 (Conv2D)           (None, 7, 7, 8)           584       \n",
      "_________________________________________________________________\n",
      "max_pooling2d_6 (MaxPooling2 (None, 4, 4, 8)           0         \n",
      "_________________________________________________________________\n",
      "conv2d_11 (Conv2D)           (None, 4, 4, 8)           584       \n",
      "_________________________________________________________________\n",
      "up_sampling2d_4 (UpSampling2 (None, 8, 8, 8)           0         \n",
      "_________________________________________________________________\n",
      "conv2d_12 (Conv2D)           (None, 8, 8, 8)           584       \n",
      "_________________________________________________________________\n",
      "up_sampling2d_5 (UpSampling2 (None, 16, 16, 8)         0         \n",
      "_________________________________________________________________\n",
      "conv2d_13 (Conv2D)           (None, 14, 14, 16)        1168      \n",
      "_________________________________________________________________\n",
      "up_sampling2d_6 (UpSampling2 (None, 28, 28, 16)        0         \n",
      "_________________________________________________________________\n",
      "conv2d_14 (Conv2D)           (None, 28, 28, 1)         145       \n",
      "=================================================================\n",
      "Total params: 4,385\n",
      "Trainable params: 4,385\n",
      "Non-trainable params: 0\n",
      "_________________________________________________________________\n"
     ]
    }
   ],
   "source": [
    "autoencoder.summary()"
   ]
  },
  {
   "cell_type": "code",
   "execution_count": 38,
   "metadata": {},
   "outputs": [],
   "source": [
    "# load data\n",
    "from keras.datasets import mnist\n",
    "import numpy as np\n",
    "\n",
    "(x_train, _), (x_test, _) = mnist.load_data()\n",
    "\n",
    "x_train = x_train.astype('float32') / 255.\n",
    "x_test = x_test.astype('float32') / 255.\n",
    "x_train = np.reshape(x_train, (len(x_train), 28, 28, 1)) \n",
    "x_test = np.reshape(x_test, (len(x_test), 28, 28, 1))"
   ]
  },
  {
   "cell_type": "code",
   "execution_count": 39,
   "metadata": {
    "scrolled": false
   },
   "outputs": [
    {
     "name": "stdout",
     "output_type": "stream",
     "text": [
      "Train on 60000 samples, validate on 10000 samples\n",
      "Epoch 1/50\n",
      "60000/60000 [==============================] - 15s - loss: 0.2312 - acc: 0.7850 - val_loss: 0.1775 - val_acc: 0.7867\n",
      "Epoch 2/50\n",
      "60000/60000 [==============================] - 13s - loss: 0.1669 - acc: 0.7955 - val_loss: 0.1531 - val_acc: 0.8030\n",
      "Epoch 3/50\n",
      "60000/60000 [==============================] - 12s - loss: 0.1490 - acc: 0.8005 - val_loss: 0.1398 - val_acc: 0.7994\n",
      "Epoch 4/50\n",
      "60000/60000 [==============================] - 12s - loss: 0.1385 - acc: 0.8034 - val_loss: 0.1334 - val_acc: 0.8011\n",
      "Epoch 5/50\n",
      "60000/60000 [==============================] - 12s - loss: 0.1318 - acc: 0.8052 - val_loss: 0.1258 - val_acc: 0.8043\n",
      "Epoch 6/50\n",
      "60000/60000 [==============================] - 12s - loss: 0.1268 - acc: 0.8066 - val_loss: 0.1233 - val_acc: 0.8040\n",
      "Epoch 7/50\n",
      "60000/60000 [==============================] - 12s - loss: 0.1235 - acc: 0.8075 - val_loss: 0.1213 - val_acc: 0.8047\n",
      "Epoch 8/50\n",
      "60000/60000 [==============================] - 12s - loss: 0.1208 - acc: 0.8082 - val_loss: 0.1172 - val_acc: 0.8092\n",
      "Epoch 9/50\n",
      "60000/60000 [==============================] - 12s - loss: 0.1183 - acc: 0.8088 - val_loss: 0.1171 - val_acc: 0.8102\n",
      "Epoch 10/50\n",
      "60000/60000 [==============================] - 12s - loss: 0.1163 - acc: 0.8092 - val_loss: 0.1140 - val_acc: 0.8099\n",
      "Epoch 11/50\n",
      "60000/60000 [==============================] - 12s - loss: 0.1149 - acc: 0.8095 - val_loss: 0.1137 - val_acc: 0.8067\n",
      "Epoch 12/50\n",
      "60000/60000 [==============================] - 12s - loss: 0.1136 - acc: 0.8098 - val_loss: 0.1132 - val_acc: 0.8067\n",
      "Epoch 13/50\n",
      "60000/60000 [==============================] - 12s - loss: 0.1123 - acc: 0.8100 - val_loss: 0.1110 - val_acc: 0.8079\n",
      "Epoch 14/50\n",
      "60000/60000 [==============================] - 12s - loss: 0.1114 - acc: 0.8102 - val_loss: 0.1097 - val_acc: 0.8083\n",
      "Epoch 15/50\n",
      "60000/60000 [==============================] - 12s - loss: 0.1106 - acc: 0.8104 - val_loss: 0.1089 - val_acc: 0.8110\n",
      "Epoch 16/50\n",
      "60000/60000 [==============================] - 12s - loss: 0.1096 - acc: 0.8106 - val_loss: 0.1059 - val_acc: 0.8098\n",
      "Epoch 17/50\n",
      "60000/60000 [==============================] - 12s - loss: 0.1081 - acc: 0.8108 - val_loss: 0.1057 - val_acc: 0.8094\n",
      "Epoch 18/50\n",
      "60000/60000 [==============================] - 12s - loss: 0.1076 - acc: 0.8109 - val_loss: 0.1067 - val_acc: 0.8089\n",
      "Epoch 19/50\n",
      "60000/60000 [==============================] - 12s - loss: 0.1067 - acc: 0.8111 - val_loss: 0.1044 - val_acc: 0.8095\n",
      "Epoch 20/50\n",
      "60000/60000 [==============================] - 12s - loss: 0.1065 - acc: 0.8111 - val_loss: 0.1051 - val_acc: 0.8115\n",
      "Epoch 21/50\n",
      "60000/60000 [==============================] - 12s - loss: 0.1057 - acc: 0.8113 - val_loss: 0.1041 - val_acc: 0.8099\n",
      "Epoch 22/50\n",
      "60000/60000 [==============================] - 12s - loss: 0.1054 - acc: 0.8113 - val_loss: 0.1049 - val_acc: 0.8092\n",
      "Epoch 23/50\n",
      "60000/60000 [==============================] - 13s - loss: 0.1046 - acc: 0.8115 - val_loss: 0.1037 - val_acc: 0.8092\n",
      "Epoch 24/50\n",
      "60000/60000 [==============================] - 12s - loss: 0.1046 - acc: 0.8115 - val_loss: 0.1036 - val_acc: 0.8094\n",
      "Epoch 25/50\n",
      "60000/60000 [==============================] - 12s - loss: 0.1042 - acc: 0.8116 - val_loss: 0.1024 - val_acc: 0.8098\n",
      "Epoch 26/50\n",
      "60000/60000 [==============================] - 12s - loss: 0.1038 - acc: 0.8116 - val_loss: 0.1030 - val_acc: 0.8104\n",
      "Epoch 27/50\n",
      "60000/60000 [==============================] - 12s - loss: 0.1034 - acc: 0.8117 - val_loss: 0.1011 - val_acc: 0.8101\n",
      "Epoch 28/50\n",
      "60000/60000 [==============================] - 12s - loss: 0.1026 - acc: 0.8118 - val_loss: 0.1025 - val_acc: 0.8093\n",
      "Epoch 29/50\n",
      "60000/60000 [==============================] - 12s - loss: 0.1025 - acc: 0.8119 - val_loss: 0.1015 - val_acc: 0.8118\n",
      "Epoch 30/50\n",
      "60000/60000 [==============================] - 12s - loss: 0.1022 - acc: 0.8119 - val_loss: 0.1017 - val_acc: 0.8121\n",
      "Epoch 31/50\n",
      "60000/60000 [==============================] - 12s - loss: 0.1020 - acc: 0.8119 - val_loss: 0.0994 - val_acc: 0.8106\n",
      "Epoch 32/50\n",
      "60000/60000 [==============================] - 12s - loss: 0.1018 - acc: 0.8120 - val_loss: 0.1005 - val_acc: 0.8101\n",
      "Epoch 33/50\n",
      "60000/60000 [==============================] - 12s - loss: 0.1014 - acc: 0.8120 - val_loss: 0.1019 - val_acc: 0.8124s - loss: 0.1014 - acc: 0.\n",
      "Epoch 34/50\n",
      "60000/60000 [==============================] - 12s - loss: 0.1010 - acc: 0.8121 - val_loss: 0.1008 - val_acc: 0.8123\n",
      "Epoch 35/50\n",
      "60000/60000 [==============================] - 13s - loss: 0.1008 - acc: 0.8122 - val_loss: 0.0980 - val_acc: 0.8110\n",
      "Epoch 36/50\n",
      "60000/60000 [==============================] - 12s - loss: 0.1006 - acc: 0.8122 - val_loss: 0.0995 - val_acc: 0.8120\n",
      "Epoch 37/50\n",
      "60000/60000 [==============================] - 12s - loss: 0.1005 - acc: 0.8122 - val_loss: 0.0994 - val_acc: 0.8122\n",
      "Epoch 38/50\n",
      "60000/60000 [==============================] - 12s - loss: 0.1001 - acc: 0.8123 - val_loss: 0.1000 - val_acc: 0.8102\n",
      "Epoch 39/50\n",
      "60000/60000 [==============================] - 12s - loss: 0.0998 - acc: 0.8123 - val_loss: 0.0989 - val_acc: 0.8122\n",
      "Epoch 40/50\n",
      "60000/60000 [==============================] - 12s - loss: 0.0997 - acc: 0.8123 - val_loss: 0.0971 - val_acc: 0.8115\n",
      "Epoch 41/50\n",
      "60000/60000 [==============================] - 12s - loss: 0.0995 - acc: 0.8124 - val_loss: 0.0983 - val_acc: 0.8122\n",
      "Epoch 42/50\n",
      "60000/60000 [==============================] - 12s - loss: 0.0996 - acc: 0.8124 - val_loss: 0.0979 - val_acc: 0.8124\n",
      "Epoch 43/50\n",
      "60000/60000 [==============================] - 12s - loss: 0.0993 - acc: 0.8124 - val_loss: 0.0971 - val_acc: 0.8115\n",
      "Epoch 44/50\n",
      "60000/60000 [==============================] - 12s - loss: 0.0988 - acc: 0.8125 - val_loss: 0.0976 - val_acc: 0.8110\n",
      "Epoch 45/50\n",
      "60000/60000 [==============================] - 12s - loss: 0.0989 - acc: 0.8125 - val_loss: 0.0980 - val_acc: 0.8114\n",
      "Epoch 46/50\n",
      "60000/60000 [==============================] - 12s - loss: 0.0986 - acc: 0.8125 - val_loss: 0.0985 - val_acc: 0.8126\n",
      "Epoch 47/50\n",
      "60000/60000 [==============================] - 12s - loss: 0.0984 - acc: 0.8126 - val_loss: 0.0985 - val_acc: 0.8126\n",
      "Epoch 48/50\n",
      "60000/60000 [==============================] - 12s - loss: 0.0981 - acc: 0.8126 - val_loss: 0.0970 - val_acc: 0.8109\n",
      "Epoch 49/50\n",
      "60000/60000 [==============================] - 12s - loss: 0.0981 - acc: 0.8127 - val_loss: 0.0957 - val_acc: 0.8124\n",
      "Epoch 50/50\n",
      "60000/60000 [==============================] - 12s - loss: 0.0978 - acc: 0.8127 - val_loss: 0.0969 - val_acc: 0.8108\n"
     ]
    },
    {
     "data": {
      "text/plain": [
       "<keras.callbacks.History at 0x25999d94710>"
      ]
     },
     "execution_count": 39,
     "metadata": {},
     "output_type": "execute_result"
    }
   ],
   "source": [
    "autoencoder.fit(x_train, x_train,\n",
    "                epochs=50,\n",
    "                batch_size=128,\n",
    "                shuffle=True,\n",
    "                validation_data=(x_test, x_test))"
   ]
  },
  {
   "cell_type": "code",
   "execution_count": 40,
   "metadata": {},
   "outputs": [],
   "source": [
    "import matplotlib.pyplot as plt"
   ]
  },
  {
   "cell_type": "code",
   "execution_count": 41,
   "metadata": {
    "scrolled": false
   },
   "outputs": [],
   "source": [
    "decoded_imgs = autoencoder.predict(x_test)"
   ]
  },
  {
   "cell_type": "code",
   "execution_count": 42,
   "metadata": {},
   "outputs": [
    {
     "data": {
      "image/png": "[encoded data removed]",
      "text/plain": [
       "<matplotlib.figure.Figure at 0x258d14f95c0>"
      ]
     },
     "metadata": {},
     "output_type": "display_data"
    }
   ],
   "source": [
    "n = 10\n",
    "plt.figure(figsize=(20, 4))\n",
    "for i in range(n):\n",
    "    # display original\n",
    "    ax = plt.subplot(2, n, i+1)\n",
    "    plt.imshow(x_test[i].reshape(28, 28))\n",
    "    plt.gray()\n",
    "    ax.get_xaxis().set_visible(False)\n",
    "    ax.get_yaxis().set_visible(False)\n",
    "\n",
    "    # display reconstruction\n",
    "    ax = plt.subplot(2, n, i + 1 + n)\n",
    "    plt.imshow(decoded_imgs[i].reshape(28, 28))\n",
    "    plt.gray()\n",
    "    ax.get_xaxis().set_visible(False)\n",
    "    ax.get_yaxis().set_visible(False)\n",
    "plt.show()"
   ]
  },
  {
   "cell_type": "code",
   "execution_count": 43,
   "metadata": {},
   "outputs": [],
   "source": [
    "encoder = Model(input_img, encoded)"
   ]
  },
  {
   "cell_type": "code",
   "execution_count": 44,
   "metadata": {},
   "outputs": [],
   "source": [
    "encoded_images = encoder.predict(x_test)"
   ]
  },
  {
   "cell_type": "code",
   "execution_count": 45,
   "metadata": {
    "scrolled": true
   },
   "outputs": [
    {
     "data": {
      "text/plain": [
       "TensorShape([Dimension(None), Dimension(4), Dimension(4), Dimension(8)])"
      ]
     },
     "execution_count": 45,
     "metadata": {},
     "output_type": "execute_result"
    }
   ],
   "source": [
    "encoded.shape"
   ]
  },
  {
   "cell_type": "code",
   "execution_count": 46,
   "metadata": {},
   "outputs": [
    {
     "data": {
      "image/png": "[encoded data removed]",
      "text/plain": [
       "<matplotlib.figure.Figure at 0x258d6b48160>"
      ]
     },
     "metadata": {},
     "output_type": "display_data"
    }
   ],
   "source": [
    "n = 10\n",
    "plt.figure(figsize=(20, 8))\n",
    "for i in range(n):\n",
    "    # display original\n",
    "    ax = plt.subplot(2, n, i+1)\n",
    "    plt.imshow(x_test[i].reshape(28, 28))\n",
    "    plt.gray()\n",
    "    ax.get_xaxis().set_visible(False)\n",
    "    ax.get_yaxis().set_visible(False)\n",
    "\n",
    "    # display encoded images\n",
    "    ax = plt.subplot(2, n, i + 1 + n)\n",
    "    plt.imshow(encoded_images[i].reshape(4*4, 8))\n",
    "    plt.gray()\n",
    "    ax.get_xaxis().set_visible(False)\n",
    "    ax.get_yaxis().set_visible(False)\n",
    "plt.show()"
   ]
  },
  {
   "cell_type": "code",
   "execution_count": null,
   "metadata": {},
   "outputs": [],
   "source": []
  }
 ],
 "metadata": {
  "kernelspec": {
   "display_name": "Python 3",
   "language": "python",
   "name": "python3"
  },
  "language_info": {
   "codemirror_mode": {
    "name": "ipython",
    "version": 3
   },
   "file_extension": ".py",
   "mimetype": "text/x-python",
   "name": "python",
   "nbconvert_exporter": "python",
   "pygments_lexer": "ipython3",
   "version": "3.6.2"
  }
 },
 "nbformat": 4,
 "nbformat_minor": 2
}
