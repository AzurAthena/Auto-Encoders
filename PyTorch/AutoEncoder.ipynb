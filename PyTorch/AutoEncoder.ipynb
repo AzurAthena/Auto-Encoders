{
 "cells": [
  {
   "cell_type": "code",
   "execution_count": 38,
   "metadata": {
    "collapsed": true
   },
   "outputs": [],
   "source": [
    "import torch \n",
    "import torch.nn as nn\n",
    "import torchvision.datasets as dsets\n",
    "import torchvision.transforms as transforms\n",
    "from torch.autograd import Variable"
   ]
  },
  {
   "cell_type": "code",
   "execution_count": 39,
   "metadata": {
    "collapsed": true
   },
   "outputs": [],
   "source": [
    "# Hyper Parameters\n",
    "num_epochs = 5\n",
    "batch_size = 100\n",
    "learning_rate = 0.001"
   ]
  },
  {
   "cell_type": "code",
   "execution_count": 40,
   "metadata": {
    "collapsed": false
   },
   "outputs": [],
   "source": [
    "# MNIST Dataset\n",
    "train_dataset = dsets.MNIST(root='./data/',\n",
    "                            train=True, \n",
    "                            transform=transforms.ToTensor(),\n",
    "                            download=True)\n",
    "\n",
    "test_dataset = dsets.MNIST(root='./data/',\n",
    "                           train=False, \n",
    "                           transform=transforms.ToTensor())\n",
    "\n",
    "# Data Loader (Input Pipeline)\n",
    "train_loader = torch.utils.data.DataLoader(dataset=train_dataset,\n",
    "                                           batch_size=batch_size, \n",
    "                                           shuffle=True)\n",
    "\n",
    "test_loader = torch.utils.data.DataLoader(dataset=test_dataset,\n",
    "                                          batch_size=batch_size, \n",
    "                                          shuffle=False)"
   ]
  },
  {
   "cell_type": "code",
   "execution_count": 41,
   "metadata": {
    "collapsed": true
   },
   "outputs": [],
   "source": [
    "# CNN Model (2 conv layer)\n",
    "class CNN(nn.Module):\n",
    "    def __init__(self):\n",
    "        super(CNN, self).__init__()\n",
    "        self.layer1 = nn.Sequential(\n",
    "            nn.Conv2d(1, 16, kernel_size=5, padding=2),\n",
    "            nn.BatchNorm2d(16),\n",
    "            nn.ReLU(),\n",
    "            nn.MaxPool2d(2))\n",
    "        self.layer2 = nn.Sequential(\n",
    "            nn.Conv2d(16, 32, kernel_size=5, padding=2),\n",
    "            nn.BatchNorm2d(32),\n",
    "            nn.ReLU(),\n",
    "            nn.MaxPool2d(2))\n",
    "        self.fc = nn.Linear(7*7*32, 10)\n",
    "        \n",
    "    def forward(self, x):\n",
    "        out = self.layer1(x)\n",
    "        out = self.layer2(out)\n",
    "        out = out.view(out.size(0), -1)\n",
    "        out = self.fc(out)\n",
    "        return out\n",
    "\n",
    "cnn = CNN()"
   ]
  },
  {
   "cell_type": "code",
   "execution_count": 42,
   "metadata": {
    "collapsed": false
   },
   "outputs": [],
   "source": [
    "class Encoder(nn.Module):\n",
    "    def __init__(self):\n",
    "        super(Encoder, self).__init__()\n",
    "        \n",
    "        self.conv1 = nn.Conv2d(1, 48, kernel_size=5, padding=2)\n",
    "        self.relu1 = nn.ReLU()\n",
    "        self.maxpool1 = nn.MaxPool2d(2, return_indices=True)\n",
    "        \n",
    "    def forward(self, x):\n",
    "        out = self.conv1(x)\n",
    "        out = self.relu1(out)\n",
    "        out, indices = self.maxpool1(out)\n",
    "        return out, indices\n",
    "\n",
    "class Decoder(nn.Module):\n",
    "    def __init__(self):\n",
    "        super(Decoder, self).__init__()\n",
    "        self.unpool1 = nn.MaxUnpool2d(2)\n",
    "        self.deconv1 = nn.ConvTranspose2d(48, 1, kernel_size=5, padding=2)\n",
    "\n",
    "    def forward(self, x, indices):\n",
    "        out = self.unpool1(x, indices)\n",
    "        out = self.deconv1(out)\n",
    "        return out   \n",
    "\n",
    "encoder = Encoder()\n",
    "decoder = Decoder()"
   ]
  },
  {
   "cell_type": "code",
   "execution_count": 43,
   "metadata": {
    "collapsed": true
   },
   "outputs": [],
   "source": [
    "# Loss and Optimizer\n",
    "criterion = nn.MSELoss()\n",
    "# criterion = nn.CrossEntropyLoss()\n",
    "params = list(decoder.parameters()) + list(encoder.parameters())\n",
    "optimizer = torch.optim.Adam(params, lr=learning_rate)"
   ]
  },
  {
   "cell_type": "code",
   "execution_count": 52,
   "metadata": {
    "collapsed": false,
    "scrolled": true
   },
   "outputs": [],
   "source": [
    "# Train the Model and break it pre-maturely to view the first reconstruction\n",
    "for epoch in range(num_epochs):\n",
    "    for i, (images, labels) in enumerate(train_loader):\n",
    "        images = Variable(images)\n",
    "#         labels = Variable(labels)\n",
    "        \n",
    "        # Forward + Backward + Optimize\n",
    "        optimizer.zero_grad()\n",
    "        outputs, indices = encoder(images)\n",
    "        outputs = decoder(outputs, indices)\n",
    "        loss = criterion(outputs, images)\n",
    "        loss.backward()\n",
    "        optimizer.step()\n",
    "        \n",
    "        if (i+1) % 100 == 0:\n",
    "            print ('Epoch [%d/%d], Iter [%d/%d] Loss: %.4f' \n",
    "                   %(epoch+1, num_epochs, i+1, len(train_dataset)//batch_size, loss.data[0]))\n",
    "        \n",
    "        break"
   ]
  },
  {
   "cell_type": "code",
   "execution_count": 53,
   "metadata": {
    "collapsed": true
   },
   "outputs": [],
   "source": [
    "import matplotlib.pyplot as plt\n",
    "%matplotlib inline"
   ]
  },
  {
   "cell_type": "code",
   "execution_count": 54,
   "metadata": {
    "collapsed": false,
    "scrolled": true
   },
   "outputs": [
    {
     "data": {
      "image/png": "[encoded data removed]",
      "text/plain": [
       "<matplotlib.figure.Figure at 0x141342bf208>"
      ]
     },
     "metadata": {},
     "output_type": "display_data"
    }
   ],
   "source": [
    "# View the results\n",
    "# Test the Model\n",
    "encoder.eval()\n",
    "decoder.eval()\n",
    "\n",
    "# total images to display\n",
    "n = 5\n",
    "plt.figure(figsize=(20, 4))\n",
    "\n",
    "for images, labels in test_loader:\n",
    "    \n",
    "    images = Variable(images)\n",
    "    outputs, indices = encoder(images)\n",
    "    outputs = decoder(outputs, indices)\n",
    "    count = 0\n",
    "    \n",
    "    in_out = zip(images, outputs)\n",
    "    for image, output in in_out:\n",
    "        count += 1\n",
    "        if count >= n:\n",
    "            break\n",
    "            \n",
    "        # display original images    \n",
    "        ax = plt.subplot(2, n, count + 1)\n",
    "        plt.imshow(image.data.numpy().reshape(28, 28))\n",
    "        plt.gray()\n",
    "        ax.get_xaxis().set_visible(False)\n",
    "        ax.get_yaxis().set_visible(False)\n",
    "        \n",
    "        # display reconstruction\n",
    "        ax = plt.subplot(2, n, count + 1 + n)\n",
    "        plt.imshow(output.data.numpy().reshape(28, 28))\n",
    "        plt.gray()\n",
    "        ax.get_xaxis().set_visible(False)\n",
    "        ax.get_yaxis().set_visible(False)   \n",
    "            \n",
    "    break\n"
   ]
  },
  {
   "cell_type": "code",
   "execution_count": 55,
   "metadata": {
    "collapsed": false,
    "scrolled": true
   },
   "outputs": [
    {
     "name": "stdout",
     "output_type": "stream",
     "text": [
      "Epoch [1/5], Iter [100/600] Loss: 0.0021\n",
      "Epoch [1/5], Iter [200/600] Loss: 0.0013\n",
      "Epoch [1/5], Iter [300/600] Loss: 0.0010\n",
      "Epoch [1/5], Iter [400/600] Loss: 0.0009\n",
      "Epoch [1/5], Iter [500/600] Loss: 0.0008\n",
      "Epoch [1/5], Iter [600/600] Loss: 0.0007\n",
      "Epoch [2/5], Iter [100/600] Loss: 0.0007\n",
      "Epoch [2/5], Iter [200/600] Loss: 0.0006\n",
      "Epoch [2/5], Iter [300/600] Loss: 0.0006\n",
      "Epoch [2/5], Iter [400/600] Loss: 0.0005\n",
      "Epoch [2/5], Iter [500/600] Loss: 0.0005\n",
      "Epoch [2/5], Iter [600/600] Loss: 0.0006\n",
      "Epoch [3/5], Iter [100/600] Loss: 0.0005\n",
      "Epoch [3/5], Iter [200/600] Loss: 0.0005\n",
      "Epoch [3/5], Iter [300/600] Loss: 0.0005\n",
      "Epoch [3/5], Iter [400/600] Loss: 0.0004\n",
      "Epoch [3/5], Iter [500/600] Loss: 0.0004\n",
      "Epoch [3/5], Iter [600/600] Loss: 0.0004\n",
      "Epoch [4/5], Iter [100/600] Loss: 0.0004\n",
      "Epoch [4/5], Iter [200/600] Loss: 0.0004\n",
      "Epoch [4/5], Iter [300/600] Loss: 0.0004\n",
      "Epoch [4/5], Iter [400/600] Loss: 0.0004\n",
      "Epoch [4/5], Iter [500/600] Loss: 0.0004\n",
      "Epoch [4/5], Iter [600/600] Loss: 0.0004\n",
      "Epoch [5/5], Iter [100/600] Loss: 0.0004\n",
      "Epoch [5/5], Iter [200/600] Loss: 0.0004\n",
      "Epoch [5/5], Iter [300/600] Loss: 0.0004\n",
      "Epoch [5/5], Iter [400/600] Loss: 0.0003\n",
      "Epoch [5/5], Iter [500/600] Loss: 0.0004\n",
      "Epoch [5/5], Iter [600/600] Loss: 0.0003\n"
     ]
    }
   ],
   "source": [
    "# Train the Model (fully)\n",
    "for epoch in range(num_epochs):\n",
    "    for i, (images, labels) in enumerate(train_loader):\n",
    "        images = Variable(images)\n",
    "#         labels = Variable(labels)\n",
    "        \n",
    "        # Forward + Backward + Optimize\n",
    "        optimizer.zero_grad()\n",
    "        outputs, indices = encoder(images)\n",
    "        outputs = decoder(outputs, indices)\n",
    "        loss = criterion(outputs, images)\n",
    "        loss.backward()\n",
    "        optimizer.step()\n",
    "        \n",
    "        if (i+1) % 100 == 0:\n",
    "            print ('Epoch [%d/%d], Iter [%d/%d] Loss: %.4f' \n",
    "                   %(epoch+1, num_epochs, i+1, len(train_dataset)//batch_size, loss.data[0]))\n",
    "        "
   ]
  },
  {
   "cell_type": "code",
   "execution_count": 56,
   "metadata": {
    "collapsed": false,
    "scrolled": true
   },
   "outputs": [
    {
     "data": {
      "image/png": "[encoded data removed]",
      "text/plain": [
       "<matplotlib.figure.Figure at 0x1411bf01a90>"
      ]
     },
     "metadata": {},
     "output_type": "display_data"
    }
   ],
   "source": [
    "# View the results\n",
    "# Test the Model\n",
    "encoder.eval()\n",
    "decoder.eval()\n",
    "\n",
    "# total images to display\n",
    "n = 5\n",
    "plt.figure(figsize=(20, 4))\n",
    "\n",
    "for images, labels in test_loader:\n",
    "    \n",
    "    images = Variable(images)\n",
    "    outputs, indices = encoder(images)\n",
    "    outputs = decoder(outputs, indices)\n",
    "    count = 0\n",
    "    \n",
    "    in_out = zip(images, outputs)\n",
    "    for image, output in in_out:\n",
    "        count += 1\n",
    "        if count >= n:\n",
    "            break\n",
    "            \n",
    "        # display original images    \n",
    "        ax = plt.subplot(2, n, count + 1)\n",
    "        plt.imshow(image.data.numpy().reshape(28, 28))\n",
    "        plt.gray()\n",
    "        ax.get_xaxis().set_visible(False)\n",
    "        ax.get_yaxis().set_visible(False)\n",
    "        \n",
    "        # display reconstruction\n",
    "        ax = plt.subplot(2, n, count + 1 + n)\n",
    "        plt.imshow(output.data.numpy().reshape(28, 28))\n",
    "        plt.gray()\n",
    "        ax.get_xaxis().set_visible(False)\n",
    "        ax.get_yaxis().set_visible(False)   \n",
    "            \n",
    "    break\n"
   ]
  },
  {
   "cell_type": "code",
   "execution_count": 57,
   "metadata": {
    "collapsed": true
   },
   "outputs": [],
   "source": [
    "# Save the Trained Model\n",
    "torch.save(encoder.state_dict(), 'encoder.pkl')\n",
    "torch.save(decoder.state_dict(), 'decoder.pkl')\n"
   ]
  },
  {
   "cell_type": "code",
   "execution_count": 58,
   "metadata": {
    "collapsed": false
   },
   "outputs": [],
   "source": [
    "reconstruction_loss = nn.MSELoss()"
   ]
  },
  {
   "cell_type": "code",
   "execution_count": 59,
   "metadata": {
    "collapsed": false
   },
   "outputs": [
    {
     "name": "stdout",
     "output_type": "stream",
     "text": [
      "====> Test set loss 3.374186542350799e-06\n"
     ]
    }
   ],
   "source": [
    "encoder.eval()\n",
    "decoder.eval()\n",
    "test_loss = 0\n",
    "for data, _ in test_loader:\n",
    "\n",
    "    data = Variable(data, volatile=True)\n",
    "    out, indices = encoder(data)\n",
    "    out = decoder(out, indices)\n",
    "    test_loss += reconstruction_loss(out, data).data[0]\n",
    "\n",
    "test_loss /= len(test_loader.dataset)\n",
    "print('====> Test set loss', test_loss)\n",
    "\n"
   ]
  },
  {
   "cell_type": "code",
   "execution_count": null,
   "metadata": {
    "collapsed": true
   },
   "outputs": [],
   "source": []
  },
  {
   "cell_type": "code",
   "execution_count": null,
   "metadata": {
    "collapsed": true
   },
   "outputs": [],
   "source": []
  }
 ],
 "metadata": {
  "anaconda-cloud": {},
  "kernelspec": {
   "display_name": "Python [Root]",
   "language": "python",
   "name": "Python [Root]"
  },
  "language_info": {
   "codemirror_mode": {
    "name": "ipython",
    "version": 3
   },
   "file_extension": ".py",
   "mimetype": "text/x-python",
   "name": "python",
   "nbconvert_exporter": "python",
   "pygments_lexer": "ipython3",
   "version": "3.5.2"
  }
 },
 "nbformat": 4,
 "nbformat_minor": 0
}
